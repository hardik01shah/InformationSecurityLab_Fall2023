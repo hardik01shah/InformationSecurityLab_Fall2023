{
  "cells": [
    {
      "cell_type": "code",
      "execution_count": 1,
      "metadata": {
        "colab": {
          "base_uri": "https://localhost:8080/"
        },
        "id": "mFCB4Sp6r1Yp",
        "outputId": "eb7eada7-3b4c-4f76-a720-5f9076f93cf0"
      },
      "outputs": [
        {
          "output_type": "stream",
          "name": "stdout",
          "text": [
            "Mounted at /content/drive\n"
          ]
        }
      ],
      "source": [
        "use_gdrive = True # @param {type:\"boolean\"}\n",
        "\n",
        "RESULTS_PATH = \"results2\"\n",
        "\n",
        "if use_gdrive:\n",
        "  try:\n",
        "    # mount your google drive to get permanent storage for your results\n",
        "    from google.colab import drive\n",
        "    drive.mount('/content/drive')\n",
        "\n",
        "    RESULTS_PATH = \"/content/drive/MyDrive/infoseclab23/results2\"\n",
        "  except ModuleNotFoundError:\n",
        "    print(\"failed to mount gdrive\")\n",
        "else:\n",
        "  print(f\"saving results to '{RESULTS_PATH}'. If you're using Google Colab, this folder will be deleted when you disconnect!\")\n",
        "\n",
        "!mkdir -p {RESULTS_PATH}"
      ]
    },
    {
      "cell_type": "code",
      "execution_count": 2,
      "metadata": {
        "colab": {
          "base_uri": "https://localhost:8080/"
        },
        "id": "SwaKfoJ3r771",
        "outputId": "a58f0eb2-56f3-4e01-eb7e-e2d4b4232fdf"
      },
      "outputs": [
        {
          "output_type": "stream",
          "name": "stdout",
          "text": [
            "Cloning into 'infoseclab_23'...\n",
            "remote: Enumerating objects: 34, done.\u001b[K\n",
            "remote: Counting objects: 100% (4/4), done.\u001b[K\n",
            "remote: Compressing objects: 100% (4/4), done.\u001b[K\n",
            "remote: Total 34 (delta 0), reused 2 (delta 0), pack-reused 30\u001b[K\n",
            "Receiving objects: 100% (34/34), 268.09 MiB | 38.97 MiB/s, done.\n",
            "Resolving deltas: 100% (1/1), done.\n",
            "Updating files: 100% (25/25), done.\n",
            "/content/infoseclab_23\n",
            "From https://github.com/ethz-spylab/infoseclab_23\n",
            " * branch            HEAD       -> FETCH_HEAD\n",
            "Already up to date.\n",
            "/content\n"
          ]
        }
      ],
      "source": [
        "import sys\n",
        "\n",
        "# Lab files\n",
        "![ ! -d 'infoseclab_23' ] && git clone https://github.com/ethz-spylab/infoseclab_23.git\n",
        "%cd infoseclab_23\n",
        "!git pull https://github.com/ethz-spylab/infoseclab_23.git\n",
        "%cd ..\n",
        "if \"infoseclab_23\" not in sys.path:\n",
        "  sys.path.append(\"infoseclab_23\")"
      ]
    },
    {
      "cell_type": "markdown",
      "metadata": {
        "id": "3v3KTaJ2r__h"
      },
      "source": [
        "# Imports"
      ]
    },
    {
      "cell_type": "code",
      "execution_count": 3,
      "metadata": {
        "id": "lv6zjpbxsB20"
      },
      "outputs": [],
      "source": [
        "import infoseclab\n",
        "from infoseclab import ShadowModels, utils, evaluation\n",
        "import matplotlib.pyplot as plt\n",
        "import numpy as np\n",
        "import os\n",
        "import pathlib\n",
        "import scipy\n",
        "import sklearn\n",
        "import warnings\n",
        "from zipfile import ZipFile\n"
      ]
    },
    {
      "cell_type": "markdown",
      "metadata": {
        "id": "2ig2TBGUw2om"
      },
      "source": [
        "# Membership Inference\n",
        "\n",
        "In this part of the lab, you will create a membership inference attack, with a twist:\n",
        "you do not know which shadow models were trained on which samples.\n",
        "\n",
        "First, load the predictions."
      ]
    },
    {
      "cell_type": "code",
      "execution_count": 4,
      "metadata": {
        "id": "5zEEEqn8w7Sg"
      },
      "outputs": [],
      "source": [
        "# Load data\n",
        "activations_fit = ShadowModels.activations_fit        # pre-softmax activations from shadow models to construct your attack (50000 x 127 x 10)\n",
        "activations_attack = ShadowModels.activations_attack  # pre-softmax activations from the target model to attack (50000 x 10)\n",
        "labels = ShadowModels.labels                          # the class labels of all samples (50000)\n",
        "training_splits = ShadowModels.training_splits        # train-test vector; -1 for test samples, 1/0 (member/non-member) for training samples (50000)\n",
        "\n",
        "num_samples, num_models, num_classes = activations_fit.shape\n",
        "assert activations_attack.shape == (num_samples, num_classes)\n",
        "assert labels.shape == (num_samples,)\n",
        "assert training_splits.shape == (num_samples,)\n",
        "\n",
        "# Mask that is True for all samples with a known target membership label\n",
        "training_mask = (training_splits != -1)\n"
      ]
    },
    {
      "cell_type": "markdown",
      "metadata": {
        "id": "cVWhkiLg9cjH"
      },
      "source": [
        "**Implement your membership inference attack in the following cell.**\n",
        "\n",
        "Remember that your output should be a NumPy array\n",
        "containing attack scores for *all* samples,\n",
        "but we only consider samples where the corresponding `training_mask` entry\n",
        "is `False` for grading.\n",
        "\n",
        "The following code performs a dummy attack that ignores all shadow model outputs."
      ]
    },
    {
      "cell_type": "code",
      "execution_count": 5,
      "metadata": {
        "id": "iqC5x1iaw2kx"
      },
      "outputs": [],
      "source": [
        "def get_scores(num_samples, num_classes, labels, activations):\n",
        "  labels_indx = labels.reshape(-1,1)\n",
        "  anti_label_mask = np.ones((num_samples, num_classes))\n",
        "  anti_label_mask[np.arange(num_samples)[:, None], labels_indx] = 0\n",
        "  all_indx = np.repeat(np.arange(num_classes).reshape(1,-1), num_samples, axis=0)\n",
        "  anti_labels = all_indx[np.where(anti_label_mask)].reshape(num_samples, num_classes-1)\n",
        "\n",
        "  activations_target = activations[np.arange(num_samples)[:, None], :, labels_indx].squeeze()\n",
        "\n",
        "  if len(activations_target.shape)==1:\n",
        "    activations_target = np.expand_dims(activations_target, axis=1)\n",
        "\n",
        "  activations_rem_max = np.max(activations[np.arange(num_samples)[:, None], :, anti_labels], axis=1)\n",
        "\n",
        "  logits = activations_target - activations_rem_max\n",
        "  logits = logits.squeeze()\n",
        "\n",
        "  return logits"
      ]
    },
    {
      "cell_type": "code",
      "execution_count": 6,
      "metadata": {
        "id": "KX0cHd8yvQcm"
      },
      "outputs": [],
      "source": [
        "def get_normal_probabilities(x, mean, std):\n",
        "  term1 = 1/(std*np.sqrt(2*np.pi))\n",
        "  term2 = np.exp(-0.5*np.square((x-mean)/std))\n",
        "  prob = np.multiply(term1, term2)\n",
        "  eps = 1e-10*np.ones_like(prob)\n",
        "\n",
        "  return prob+eps"
      ]
    },
    {
      "cell_type": "code",
      "execution_count": 7,
      "metadata": {
        "id": "2NADGDPR7UVZ"
      },
      "outputs": [],
      "source": [
        "from sklearn.mixture import GaussianMixture\n",
        "from tqdm import tqdm\n",
        "\n",
        "def get_in_and_out(raw_scores):\n",
        "\n",
        "  in_mu = np.zeros(len(raw_scores))\n",
        "  in_std = np.zeros(len(raw_scores))\n",
        "  out_mu = np.zeros(len(raw_scores))\n",
        "  out_std = np.zeros(len(raw_scores))\n",
        "\n",
        "  gmm_global = GaussianMixture(n_components=2, random_state=1)\n",
        "  gmm_global.fit(raw_scores.reshape(-1,1))\n",
        "\n",
        "  in_indx = 1\n",
        "  out_indx = 0\n",
        "  if gmm_global.means_[0]>gmm_global.means_[1]:\n",
        "    in_indx=0\n",
        "    out_indx=1\n",
        "\n",
        "  in_std_global=np.sqrt(gmm_global.covariances_[in_indx])\n",
        "  out_std_global=np.sqrt(gmm_global.covariances_[out_indx])\n",
        "\n",
        "  for i in tqdm(range(len(raw_scores))):\n",
        "    row_data = raw_scores[i].reshape(-1,1)\n",
        "\n",
        "    gmm = GaussianMixture(n_components=2, random_state=1)\n",
        "    gmm.fit(row_data)\n",
        "\n",
        "    in_indx = 1\n",
        "    out_indx = 0\n",
        "    if gmm.means_[0]>gmm.means_[1]:\n",
        "      in_indx=0\n",
        "      out_indx=1\n",
        "\n",
        "    in_mu[i]=gmm.means_[in_indx]\n",
        "    out_mu[i]=gmm.means_[out_indx]\n",
        "\n",
        "    in_std[i]=in_std_global\n",
        "    out_std[i]=out_std_global\n",
        "\n",
        "  return in_mu, in_std, out_mu, out_std"
      ]
    },
    {
      "cell_type": "code",
      "execution_count": 8,
      "metadata": {
        "id": "cFWL8jT9xyFr",
        "outputId": "ee7e81bd-0ec9-408d-f362-6d485d38c4bf",
        "colab": {
          "base_uri": "https://localhost:8080/"
        }
      },
      "outputs": [
        {
          "output_type": "stream",
          "name": "stderr",
          "text": [
            "100%|██████████| 50000/50000 [05:43<00:00, 145.56it/s]\n"
          ]
        }
      ],
      "source": [
        "raw_scores = get_scores(num_samples, num_classes, labels, activations_fit)\n",
        "in_mu, in_std, out_mu, out_std = get_in_and_out(raw_scores)"
      ]
    },
    {
      "cell_type": "code",
      "execution_count": 9,
      "metadata": {
        "id": "P_fjZCUvAFr8"
      },
      "outputs": [],
      "source": [
        "attack_raw_scores = get_scores(num_samples, num_classes, labels, np.expand_dims(activations_attack, axis=1))\n",
        "prob_in = get_normal_probabilities(attack_raw_scores, in_mu, in_std)\n",
        "prob_out = get_normal_probabilities(attack_raw_scores, out_mu, out_std)\n",
        "lamda = prob_in/prob_out"
      ]
    },
    {
      "cell_type": "code",
      "execution_count": 10,
      "metadata": {
        "id": "0IRX9x6G9MY4"
      },
      "outputs": [],
      "source": [
        "# TODO: Replace the following dummy score with your attack\n",
        "# attack_scores = activations_attack[np.arange(num_samples), labels]\n",
        "attack_scores = lamda.astype(np.float32)\n",
        "\n",
        "# Save scores\n",
        "utils.save_attack_scores(os.path.join(RESULTS_PATH, \"attack_scores.npy\"), attack_scores)"
      ]
    },
    {
      "cell_type": "code",
      "execution_count": 11,
      "metadata": {
        "id": "-s2PONSPCUWL",
        "colab": {
          "base_uri": "https://localhost:8080/",
          "height": 479
        },
        "outputId": "38f4ff1d-0829-40ae-ecb8-cfa4fd7b986e"
      },
      "outputs": [
        {
          "output_type": "stream",
          "name": "stdout",
          "text": [
            "Dummy attack TPR @ FPR 1.00%: 11.35%\n"
          ]
        },
        {
          "output_type": "display_data",
          "data": {
            "text/plain": [
              "<Figure size 640x480 with 1 Axes>"
            ],
            "image/png": "[encoded data removed]"
          },
          "metadata": {}
        }
      ],
      "source": [
        "# You can visualize the TPR vs. FPR of your attack on the training set using the following code.\n",
        "# If you want to evaluate multiple attacks you can call `evaluation.eval_mia` multiple times,\n",
        "# but you should set `plot_decorations = False` for all but the first call.\n",
        "fig, ax = plt.subplots()\n",
        "evaluation.eval_mia(\n",
        "    true_splits=training_splits[training_mask],\n",
        "    attack_scores=attack_scores[training_mask],\n",
        "    ax=ax,\n",
        "    label=\"Dummy attack\",\n",
        "    plot_decorations=True,\n",
        ")\n",
        "plt.show(fig)\n",
        "plt.close(fig)"
      ]
    },
    {
      "cell_type": "markdown",
      "metadata": {
        "id": "_bpW775c7RXy"
      },
      "source": [
        "# Stealing Chatbot Prompts\n",
        "\n",
        "Enter results for the chatbot secret extraction"
      ]
    },
    {
      "cell_type": "code",
      "execution_count": 12,
      "metadata": {
        "id": "W-mTLK627PsK"
      },
      "outputs": [],
      "source": [
        "# Enter your 10 extracted secrets, 6 alphanumeric characters each\n",
        "secrets = [\n",
        "    \"TIOsxG\",\n",
        "    \"ur71Ct\",\n",
        "    \"x7yQxM\",\n",
        "    \"3PiGUk\",\n",
        "    \"TZoP2i\",\n",
        "    \"NofQK8\",\n",
        "    \"6gTiO0\",\n",
        "    \"pss410\",\n",
        "    \"j7xE6h\",\n",
        "    \"hmaPiB\"\n",
        "]\n",
        "\n",
        "# save the secrets to an array and save it to chatbot.npy\n",
        "secrets = np.array(secrets)\n",
        "assert len(secrets) == 10\n",
        "np.save(f\"{RESULTS_PATH}/chatbot.npy\", secrets)"
      ]
    },
    {
      "cell_type": "markdown",
      "metadata": {
        "id": "gjRRxPXqsGWk"
      },
      "source": [
        "# Create submission file (**upload `results2.zip` to moodle**)"
      ]
    },
    {
      "cell_type": "code",
      "execution_count": 13,
      "metadata": {
        "id": "qRK9S_o26CY9",
        "colab": {
          "base_uri": "https://localhost:8080/"
        },
        "outputId": "a27bb79e-59f6-44df-aa93-1c8fba25016c"
      },
      "outputs": [
        {
          "output_type": "stream",
          "name": "stdout",
          "text": [
            "  adding: attack_scores.npy (deflated 10%)\n",
            "  adding: chatbot.npy (deflated 52%)\n"
          ]
        }
      ],
      "source": [
        "!zip -j -FSr \"{RESULTS_PATH}/results2.zip\" {RESULTS_PATH}"
      ]
    },
    {
      "cell_type": "code",
      "execution_count": 14,
      "metadata": {
        "id": "ADYA5ufh6ir_",
        "colab": {
          "base_uri": "https://localhost:8080/"
        },
        "outputId": "b81b5a31-ba22-4bae-f6c2-de276da86250"
      },
      "outputs": [
        {
          "output_type": "stream",
          "name": "stdout",
          "text": [
            "Zip file is valid\n"
          ]
        }
      ],
      "source": [
        "from infoseclab.submission import validate_zip2\n",
        "assert validate_zip2(f\"{RESULTS_PATH}/results2.zip\")"
      ]
    },
    {
      "cell_type": "code",
      "source": [],
      "metadata": {
        "id": "2-IEPzbpCCNB"
      },
      "execution_count": null,
      "outputs": []
    }
  ],
  "metadata": {
    "colab": {
      "provenance": []
    },
    "kernelspec": {
      "display_name": "Python 3",
      "name": "python3"
    },
    "language_info": {
      "name": "python"
    }
  },
  "nbformat": 4,
  "nbformat_minor": 0
}